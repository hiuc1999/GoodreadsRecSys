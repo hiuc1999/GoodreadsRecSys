{
  "nbformat": 4,
  "nbformat_minor": 0,
  "metadata": {
    "colab": {
      "name": "DataPreprocessing.ipynb",
      "provenance": [],
      "collapsed_sections": [],
      "machine_shape": "hm"
    },
    "kernelspec": {
      "name": "python3",
      "display_name": "Python 3"
    },
    "language_info": {
      "name": "python"
    },
    "gpuClass": "standard"
  },
  "cells": [
    {
      "cell_type": "code",
      "source": [
        "from google.colab import drive\n",
        "drive.mount('/content/drive')"
      ],
      "metadata": {
        "colab": {
          "base_uri": "https://localhost:8080/"
        },
        "id": "VujzN50stdEw",
        "outputId": "2fbe7906-8c47-46e7-e983-69c99aa7a2c2"
      },
      "execution_count": null,
      "outputs": [
        {
          "output_type": "stream",
          "name": "stdout",
          "text": [
            "Drive already mounted at /content/drive; to attempt to forcibly remount, call drive.mount(\"/content/drive\", force_remount=True).\n"
          ]
        }
      ]
    },
    {
      "cell_type": "code",
      "execution_count": null,
      "metadata": {
        "id": "ugOPhi3MtVY6"
      },
      "outputs": [],
      "source": [
        "import pandas as pd\n",
        "import numpy as np"
      ]
    },
    {
      "cell_type": "code",
      "source": [
        "df_books = pd.read_csv('/content/drive/MyDrive/Capstone Project (Books Reviews)/Data/goodreads_books.csv')\n",
        "df_books.head(3)"
      ],
      "metadata": {
        "colab": {
          "base_uri": "https://localhost:8080/",
          "height": 416
        },
        "id": "LwgqFaqbtdya",
        "outputId": "df8c6ac0-e547-46c2-c934-76d2df643362"
      },
      "execution_count": null,
      "outputs": [
        {
          "output_type": "execute_result",
          "data": {
            "text/plain": [
              "         isbn      series language_code  average_rating  \\\n",
              "0  0312853122          []           NaN            4.00   \n",
              "1  0743509986          []           NaN            3.23   \n",
              "2         NaN  ['189911']           eng            4.03   \n",
              "\n",
              "                                         description  \\\n",
              "0                                                NaN   \n",
              "1  Anita Diamant's international bestseller \"The ...   \n",
              "2  Omnibus book club edition containing the Ladie...   \n",
              "\n",
              "                                 authors  publication_year  \\\n",
              "0  [{'author_id': '604031', 'role': ''}]            1984.0   \n",
              "1  [{'author_id': '626222', 'role': ''}]            2001.0   \n",
              "2   [{'author_id': '10333', 'role': ''}]            1987.0   \n",
              "\n",
              "                                           image_url  book_id    work_id  \\\n",
              "0  https://images.gr-assets.com/books/1310220028m...  5333265  5400751.0   \n",
              "1  https://s.gr-assets.com/assets/nophoto/book/11...  1333909  1323437.0   \n",
              "2  https://images.gr-assets.com/books/1304100136m...  7327624  8948723.0   \n",
              "\n",
              "                                               title  \n",
              "0                        W.C. Fields: A Life on Film  \n",
              "1                                        Good Harbor  \n",
              "2  The Unschooled Wizard (Sun Wolf and Starhawk, ...  "
            ],
            "text/html": [
              "\n",
              "  <div id=\"df-fd4bcf19-55dd-460c-8a95-9f8bc5650302\">\n",
              "    <div class=\"colab-df-container\">\n",
              "      <div>\n",
              "<style scoped>\n",
              "    .dataframe tbody tr th:only-of-type {\n",
              "        vertical-align: middle;\n",
              "    }\n",
              "\n",
              "    .dataframe tbody tr th {\n",
              "        vertical-align: top;\n",
              "    }\n",
              "\n",
              "    .dataframe thead th {\n",
              "        text-align: right;\n",
              "    }\n",
              "</style>\n",
              "<table border=\"1\" class=\"dataframe\">\n",
              "  <thead>\n",
              "    <tr style=\"text-align: right;\">\n",
              "      <th></th>\n",
              "      <th>isbn</th>\n",
              "      <th>series</th>\n",
              "      <th>language_code</th>\n",
              "      <th>average_rating</th>\n",
              "      <th>description</th>\n",
              "      <th>authors</th>\n",
              "      <th>publication_year</th>\n",
              "      <th>image_url</th>\n",
              "      <th>book_id</th>\n",
              "      <th>work_id</th>\n",
              "      <th>title</th>\n",
              "    </tr>\n",
              "  </thead>\n",
              "  <tbody>\n",
              "    <tr>\n",
              "      <th>0</th>\n",
              "      <td>0312853122</td>\n",
              "      <td>[]</td>\n",
              "      <td>NaN</td>\n",
              "      <td>4.00</td>\n",
              "      <td>NaN</td>\n",
              "      <td>[{'author_id': '604031', 'role': ''}]</td>\n",
              "      <td>1984.0</td>\n",
              "      <td>https://images.gr-assets.com/books/1310220028m...</td>\n",
              "      <td>5333265</td>\n",
              "      <td>5400751.0</td>\n",
              "      <td>W.C. Fields: A Life on Film</td>\n",
              "    </tr>\n",
              "    <tr>\n",
              "      <th>1</th>\n",
              "      <td>0743509986</td>\n",
              "      <td>[]</td>\n",
              "      <td>NaN</td>\n",
              "      <td>3.23</td>\n",
              "      <td>Anita Diamant's international bestseller \"The ...</td>\n",
              "      <td>[{'author_id': '626222', 'role': ''}]</td>\n",
              "      <td>2001.0</td>\n",
              "      <td>https://s.gr-assets.com/assets/nophoto/book/11...</td>\n",
              "      <td>1333909</td>\n",
              "      <td>1323437.0</td>\n",
              "      <td>Good Harbor</td>\n",
              "    </tr>\n",
              "    <tr>\n",
              "      <th>2</th>\n",
              "      <td>NaN</td>\n",
              "      <td>['189911']</td>\n",
              "      <td>eng</td>\n",
              "      <td>4.03</td>\n",
              "      <td>Omnibus book club edition containing the Ladie...</td>\n",
              "      <td>[{'author_id': '10333', 'role': ''}]</td>\n",
              "      <td>1987.0</td>\n",
              "      <td>https://images.gr-assets.com/books/1304100136m...</td>\n",
              "      <td>7327624</td>\n",
              "      <td>8948723.0</td>\n",
              "      <td>The Unschooled Wizard (Sun Wolf and Starhawk, ...</td>\n",
              "    </tr>\n",
              "  </tbody>\n",
              "</table>\n",
              "</div>\n",
              "      <button class=\"colab-df-convert\" onclick=\"convertToInteractive('df-fd4bcf19-55dd-460c-8a95-9f8bc5650302')\"\n",
              "              title=\"Convert this dataframe to an interactive table.\"\n",
              "              style=\"display:none;\">\n",
              "        \n",
              "  <svg xmlns=\"http://www.w3.org/2000/svg\" height=\"24px\"viewBox=\"0 0 24 24\"\n",
              "       width=\"24px\">\n",
              "    <path d=\"M0 0h24v24H0V0z\" fill=\"none\"/>\n",
              "    <path d=\"M18.56 5.44l.94 2.06.94-2.06 2.06-.94-2.06-.94-.94-2.06-.94 2.06-2.06.94zm-11 1L8.5 8.5l.94-2.06 2.06-.94-2.06-.94L8.5 2.5l-.94 2.06-2.06.94zm10 10l.94 2.06.94-2.06 2.06-.94-2.06-.94-.94-2.06-.94 2.06-2.06.94z\"/><path d=\"M17.41 7.96l-1.37-1.37c-.4-.4-.92-.59-1.43-.59-.52 0-1.04.2-1.43.59L10.3 9.45l-7.72 7.72c-.78.78-.78 2.05 0 2.83L4 21.41c.39.39.9.59 1.41.59.51 0 1.02-.2 1.41-.59l7.78-7.78 2.81-2.81c.8-.78.8-2.07 0-2.86zM5.41 20L4 18.59l7.72-7.72 1.47 1.35L5.41 20z\"/>\n",
              "  </svg>\n",
              "      </button>\n",
              "      \n",
              "  <style>\n",
              "    .colab-df-container {\n",
              "      display:flex;\n",
              "      flex-wrap:wrap;\n",
              "      gap: 12px;\n",
              "    }\n",
              "\n",
              "    .colab-df-convert {\n",
              "      background-color: #E8F0FE;\n",
              "      border: none;\n",
              "      border-radius: 50%;\n",
              "      cursor: pointer;\n",
              "      display: none;\n",
              "      fill: #1967D2;\n",
              "      height: 32px;\n",
              "      padding: 0 0 0 0;\n",
              "      width: 32px;\n",
              "    }\n",
              "\n",
              "    .colab-df-convert:hover {\n",
              "      background-color: #E2EBFA;\n",
              "      box-shadow: 0px 1px 2px rgba(60, 64, 67, 0.3), 0px 1px 3px 1px rgba(60, 64, 67, 0.15);\n",
              "      fill: #174EA6;\n",
              "    }\n",
              "\n",
              "    [theme=dark] .colab-df-convert {\n",
              "      background-color: #3B4455;\n",
              "      fill: #D2E3FC;\n",
              "    }\n",
              "\n",
              "    [theme=dark] .colab-df-convert:hover {\n",
              "      background-color: #434B5C;\n",
              "      box-shadow: 0px 1px 3px 1px rgba(0, 0, 0, 0.15);\n",
              "      filter: drop-shadow(0px 1px 2px rgba(0, 0, 0, 0.3));\n",
              "      fill: #FFFFFF;\n",
              "    }\n",
              "  </style>\n",
              "\n",
              "      <script>\n",
              "        const buttonEl =\n",
              "          document.querySelector('#df-fd4bcf19-55dd-460c-8a95-9f8bc5650302 button.colab-df-convert');\n",
              "        buttonEl.style.display =\n",
              "          google.colab.kernel.accessAllowed ? 'block' : 'none';\n",
              "\n",
              "        async function convertToInteractive(key) {\n",
              "          const element = document.querySelector('#df-fd4bcf19-55dd-460c-8a95-9f8bc5650302');\n",
              "          const dataTable =\n",
              "            await google.colab.kernel.invokeFunction('convertToInteractive',\n",
              "                                                     [key], {});\n",
              "          if (!dataTable) return;\n",
              "\n",
              "          const docLinkHtml = 'Like what you see? Visit the ' +\n",
              "            '<a target=\"_blank\" href=https://colab.research.google.com/notebooks/data_table.ipynb>data table notebook</a>'\n",
              "            + ' to learn more about interactive tables.';\n",
              "          element.innerHTML = '';\n",
              "          dataTable['output_type'] = 'display_data';\n",
              "          await google.colab.output.renderOutput(dataTable, element);\n",
              "          const docLink = document.createElement('div');\n",
              "          docLink.innerHTML = docLinkHtml;\n",
              "          element.appendChild(docLink);\n",
              "        }\n",
              "      </script>\n",
              "    </div>\n",
              "  </div>\n",
              "  "
            ]
          },
          "metadata": {},
          "execution_count": 5
        }
      ]
    },
    {
      "cell_type": "code",
      "source": [
        "df_books.info()"
      ],
      "metadata": {
        "colab": {
          "base_uri": "https://localhost:8080/"
        },
        "id": "ep9LOIrqLUUq",
        "outputId": "b7e17361-ae4e-482d-d539-36fdec2d6435"
      },
      "execution_count": null,
      "outputs": [
        {
          "output_type": "stream",
          "name": "stdout",
          "text": [
            "<class 'pandas.core.frame.DataFrame'>\n",
            "RangeIndex: 2360655 entries, 0 to 2360654\n",
            "Data columns (total 11 columns):\n",
            " #   Column            Dtype  \n",
            "---  ------            -----  \n",
            " 0   isbn              object \n",
            " 1   series            object \n",
            " 2   language_code     object \n",
            " 3   average_rating    float64\n",
            " 4   description       object \n",
            " 5   authors           object \n",
            " 6   publication_year  float64\n",
            " 7   image_url         object \n",
            " 8   book_id           int64  \n",
            " 9   work_id           float64\n",
            " 10  title             object \n",
            "dtypes: float64(3), int64(1), object(7)\n",
            "memory usage: 198.1+ MB\n"
          ]
        }
      ]
    },
    {
      "cell_type": "code",
      "source": [
        "# Encoding ID columns to continuous ids.\n",
        "def proc_col(col, train_col=None):\n",
        "    if train_col is not None:\n",
        "        uniq = train_col.unique()\n",
        "    else:\n",
        "        uniq = col.unique()\n",
        "    name2idx = {o:i for i,o in enumerate(uniq)}\n",
        "    return name2idx, np.array([name2idx.get(x, -1) for x in col]), len(uniq)\n",
        "\n",
        "def encode_data(df, cols, train=None):\n",
        "    df = df.copy()\n",
        "    for col_name in cols:\n",
        "        train_col = None\n",
        "        if train is not None:\n",
        "            train_col = train[col_name]\n",
        "        _,col,_ = proc_col(df[col_name], train_col)\n",
        "        df[col_name] = col\n",
        "        df = df[df[col_name] >= 0]\n",
        "    return df"
      ],
      "metadata": {
        "id": "u42ws8-whVS1"
      },
      "execution_count": null,
      "outputs": []
    },
    {
      "cell_type": "code",
      "source": [
        "df_books1 = encode_data(df_books,['work_id'])\n",
        "df_books1 = encode_data(df_books,['book_id'])\n",
        "df_books1['authors'] = df_books1['authors'].apply(lambda x: [i['author_id'] for i in eval(x)])\n",
        "df_books1['series'] = df_books1['series'].apply(eval)"
      ],
      "metadata": {
        "id": "uUCmfbNHio8u"
      },
      "execution_count": null,
      "outputs": []
    },
    {
      "cell_type": "code",
      "source": [
        "df_genre = pd.read_csv('/content/drive/MyDrive/Capstone Project (Books Reviews)/Data/genres.csv', index_col = 0)\n",
        "df_genre1 = encode_data(df_genre,['book_id'], df_books)\n",
        "df_genre1 = df_genre1.merge(df_books1[['book_id','work_id']], how = 'left', on = 'book_id')\n",
        "df_books1 = df_books1.merge(df_genre1[['work_id','genres_new']], how = 'left', on ='work_id')\n",
        "del df_genre, df_genre1"
      ],
      "metadata": {
        "colab": {
          "base_uri": "https://localhost:8080/"
        },
        "id": "5GGz967RE65M",
        "outputId": "5aeb8a35-5a5d-4f67-c7e2-07be417c4d10"
      },
      "execution_count": null,
      "outputs": [
        {
          "output_type": "stream",
          "name": "stderr",
          "text": [
            "/usr/local/lib/python3.7/dist-packages/IPython/core/interactiveshell.py:2882: DtypeWarning: Columns (2,3) have mixed types.Specify dtype option on import or set low_memory=False.\n",
            "  exec(code_obj, self.user_global_ns, self.user_ns)\n"
          ]
        }
      ]
    },
    {
      "cell_type": "code",
      "source": [
        "df_reviews = pd.read_csv('/content/drive/MyDrive/Capstone Project (Books Reviews)/Data/goodreads_review_spoiler.csv')\n",
        "df_reviews = df_reviews.merge(df_books[['work_id','book_id','title']], how = 'left', on = 'book_id')\n",
        "df_reviews1 = encode_data(df_reviews,['work_id'], df_books)\n",
        "df_reviews1 = encode_data(df_reviews, ['user_id'])\n",
        "df_reviews1.drop(['timestamp','review_id'],axis=1, inplace=True)\n",
        "df_reviews1.dropna(subset = ['work_id'], inplace=True)\n",
        "\n",
        "df_reviews1['work_id'] = df_reviews1['work_id'].astype(int)\n",
        "df_reviews1['rating'] = pd.to_numeric(df_reviews1['rating'], downcast ='integer')\n",
        "df_reviews1['has_spoiler'] = pd.to_numeric(df_reviews1['has_spoiler'], downcast ='integer')\n",
        "df_reviews1.head()"
      ],
      "metadata": {
        "colab": {
          "base_uri": "https://localhost:8080/",
          "height": 250
        },
        "id": "igb9Ze59jqJB",
        "outputId": "f2e025a6-8adc-4f71-a6b2-92d8fa183930"
      },
      "execution_count": null,
      "outputs": [
        {
          "output_type": "execute_result",
          "data": {
            "text/plain": [
              "   user_id   book_id  rating  has_spoiler  \\\n",
              "0        0  18245960       5            1   \n",
              "1        0     16981       3            0   \n",
              "2        0  28684704       3            1   \n",
              "3        0  27161156       0            0   \n",
              "4        0  25884323       4            1   \n",
              "\n",
              "                                    review_sentences   work_id  \\\n",
              "0  [[0, 'This is a special book.'], [0, 'It start...  25696480   \n",
              "1  [[0, 'Recommended by Don Katz.'], [0, 'Avail f...    170957   \n",
              "2  [[0, 'A fun, fast paced science fiction thrill...  43161998   \n",
              "3  [[0, 'Recommended reading to understand what i...  47200486   \n",
              "4  [[0, 'I really enjoyed this book, and there is...  42742263   \n",
              "\n",
              "                                               title  \n",
              "0  The Three-Body Problem (Remembrance of Earth’s...  \n",
              "1                                      Invisible Man  \n",
              "2                                        Dark Matter  \n",
              "3  Hillbilly Elegy: A Memoir of a Family and Cult...  \n",
              "4                                             Aurora  "
            ],
            "text/html": [
              "\n",
              "  <div id=\"df-360affe2-da6b-4585-b7b1-9e0203115f33\">\n",
              "    <div class=\"colab-df-container\">\n",
              "      <div>\n",
              "<style scoped>\n",
              "    .dataframe tbody tr th:only-of-type {\n",
              "        vertical-align: middle;\n",
              "    }\n",
              "\n",
              "    .dataframe tbody tr th {\n",
              "        vertical-align: top;\n",
              "    }\n",
              "\n",
              "    .dataframe thead th {\n",
              "        text-align: right;\n",
              "    }\n",
              "</style>\n",
              "<table border=\"1\" class=\"dataframe\">\n",
              "  <thead>\n",
              "    <tr style=\"text-align: right;\">\n",
              "      <th></th>\n",
              "      <th>user_id</th>\n",
              "      <th>book_id</th>\n",
              "      <th>rating</th>\n",
              "      <th>has_spoiler</th>\n",
              "      <th>review_sentences</th>\n",
              "      <th>work_id</th>\n",
              "      <th>title</th>\n",
              "    </tr>\n",
              "  </thead>\n",
              "  <tbody>\n",
              "    <tr>\n",
              "      <th>0</th>\n",
              "      <td>0</td>\n",
              "      <td>18245960</td>\n",
              "      <td>5</td>\n",
              "      <td>1</td>\n",
              "      <td>[[0, 'This is a special book.'], [0, 'It start...</td>\n",
              "      <td>25696480</td>\n",
              "      <td>The Three-Body Problem (Remembrance of Earth’s...</td>\n",
              "    </tr>\n",
              "    <tr>\n",
              "      <th>1</th>\n",
              "      <td>0</td>\n",
              "      <td>16981</td>\n",
              "      <td>3</td>\n",
              "      <td>0</td>\n",
              "      <td>[[0, 'Recommended by Don Katz.'], [0, 'Avail f...</td>\n",
              "      <td>170957</td>\n",
              "      <td>Invisible Man</td>\n",
              "    </tr>\n",
              "    <tr>\n",
              "      <th>2</th>\n",
              "      <td>0</td>\n",
              "      <td>28684704</td>\n",
              "      <td>3</td>\n",
              "      <td>1</td>\n",
              "      <td>[[0, 'A fun, fast paced science fiction thrill...</td>\n",
              "      <td>43161998</td>\n",
              "      <td>Dark Matter</td>\n",
              "    </tr>\n",
              "    <tr>\n",
              "      <th>3</th>\n",
              "      <td>0</td>\n",
              "      <td>27161156</td>\n",
              "      <td>0</td>\n",
              "      <td>0</td>\n",
              "      <td>[[0, 'Recommended reading to understand what i...</td>\n",
              "      <td>47200486</td>\n",
              "      <td>Hillbilly Elegy: A Memoir of a Family and Cult...</td>\n",
              "    </tr>\n",
              "    <tr>\n",
              "      <th>4</th>\n",
              "      <td>0</td>\n",
              "      <td>25884323</td>\n",
              "      <td>4</td>\n",
              "      <td>1</td>\n",
              "      <td>[[0, 'I really enjoyed this book, and there is...</td>\n",
              "      <td>42742263</td>\n",
              "      <td>Aurora</td>\n",
              "    </tr>\n",
              "  </tbody>\n",
              "</table>\n",
              "</div>\n",
              "      <button class=\"colab-df-convert\" onclick=\"convertToInteractive('df-360affe2-da6b-4585-b7b1-9e0203115f33')\"\n",
              "              title=\"Convert this dataframe to an interactive table.\"\n",
              "              style=\"display:none;\">\n",
              "        \n",
              "  <svg xmlns=\"http://www.w3.org/2000/svg\" height=\"24px\"viewBox=\"0 0 24 24\"\n",
              "       width=\"24px\">\n",
              "    <path d=\"M0 0h24v24H0V0z\" fill=\"none\"/>\n",
              "    <path d=\"M18.56 5.44l.94 2.06.94-2.06 2.06-.94-2.06-.94-.94-2.06-.94 2.06-2.06.94zm-11 1L8.5 8.5l.94-2.06 2.06-.94-2.06-.94L8.5 2.5l-.94 2.06-2.06.94zm10 10l.94 2.06.94-2.06 2.06-.94-2.06-.94-.94-2.06-.94 2.06-2.06.94z\"/><path d=\"M17.41 7.96l-1.37-1.37c-.4-.4-.92-.59-1.43-.59-.52 0-1.04.2-1.43.59L10.3 9.45l-7.72 7.72c-.78.78-.78 2.05 0 2.83L4 21.41c.39.39.9.59 1.41.59.51 0 1.02-.2 1.41-.59l7.78-7.78 2.81-2.81c.8-.78.8-2.07 0-2.86zM5.41 20L4 18.59l7.72-7.72 1.47 1.35L5.41 20z\"/>\n",
              "  </svg>\n",
              "      </button>\n",
              "      \n",
              "  <style>\n",
              "    .colab-df-container {\n",
              "      display:flex;\n",
              "      flex-wrap:wrap;\n",
              "      gap: 12px;\n",
              "    }\n",
              "\n",
              "    .colab-df-convert {\n",
              "      background-color: #E8F0FE;\n",
              "      border: none;\n",
              "      border-radius: 50%;\n",
              "      cursor: pointer;\n",
              "      display: none;\n",
              "      fill: #1967D2;\n",
              "      height: 32px;\n",
              "      padding: 0 0 0 0;\n",
              "      width: 32px;\n",
              "    }\n",
              "\n",
              "    .colab-df-convert:hover {\n",
              "      background-color: #E2EBFA;\n",
              "      box-shadow: 0px 1px 2px rgba(60, 64, 67, 0.3), 0px 1px 3px 1px rgba(60, 64, 67, 0.15);\n",
              "      fill: #174EA6;\n",
              "    }\n",
              "\n",
              "    [theme=dark] .colab-df-convert {\n",
              "      background-color: #3B4455;\n",
              "      fill: #D2E3FC;\n",
              "    }\n",
              "\n",
              "    [theme=dark] .colab-df-convert:hover {\n",
              "      background-color: #434B5C;\n",
              "      box-shadow: 0px 1px 3px 1px rgba(0, 0, 0, 0.15);\n",
              "      filter: drop-shadow(0px 1px 2px rgba(0, 0, 0, 0.3));\n",
              "      fill: #FFFFFF;\n",
              "    }\n",
              "  </style>\n",
              "\n",
              "      <script>\n",
              "        const buttonEl =\n",
              "          document.querySelector('#df-360affe2-da6b-4585-b7b1-9e0203115f33 button.colab-df-convert');\n",
              "        buttonEl.style.display =\n",
              "          google.colab.kernel.accessAllowed ? 'block' : 'none';\n",
              "\n",
              "        async function convertToInteractive(key) {\n",
              "          const element = document.querySelector('#df-360affe2-da6b-4585-b7b1-9e0203115f33');\n",
              "          const dataTable =\n",
              "            await google.colab.kernel.invokeFunction('convertToInteractive',\n",
              "                                                     [key], {});\n",
              "          if (!dataTable) return;\n",
              "\n",
              "          const docLinkHtml = 'Like what you see? Visit the ' +\n",
              "            '<a target=\"_blank\" href=https://colab.research.google.com/notebooks/data_table.ipynb>data table notebook</a>'\n",
              "            + ' to learn more about interactive tables.';\n",
              "          element.innerHTML = '';\n",
              "          dataTable['output_type'] = 'display_data';\n",
              "          await google.colab.output.renderOutput(dataTable, element);\n",
              "          const docLink = document.createElement('div');\n",
              "          docLink.innerHTML = docLinkHtml;\n",
              "          element.appendChild(docLink);\n",
              "        }\n",
              "      </script>\n",
              "    </div>\n",
              "  </div>\n",
              "  "
            ]
          },
          "metadata": {},
          "execution_count": 10
        }
      ]
    },
    {
      "cell_type": "code",
      "source": [
        "pd.DataFrame(df_reviews1['book_id'].unique(), columns = ['book_id']).merge(pd.DataFrame(df_books1[['book_id', 'language_code']]), how = 'left', on='book_id')['language_code'].value_counts()"
      ],
      "metadata": {
        "colab": {
          "base_uri": "https://localhost:8080/"
        },
        "id": "-jMGkX0t9ZiX",
        "outputId": "9303a86a-eb93-47f2-d92a-878bc9907041"
      },
      "execution_count": null,
      "outputs": [
        {
          "output_type": "execute_result",
          "data": {
            "text/plain": [
              "eng      9684\n",
              "spa      2498\n",
              "ita      1540\n",
              "en-US     987\n",
              "fre       906\n",
              "ger       822\n",
              "por       654\n",
              "ind       652\n",
              "en-GB     647\n",
              "fin       454\n",
              "ara       267\n",
              "nl        246\n",
              "slo       244\n",
              "cze       223\n",
              "pol       217\n",
              "gre       205\n",
              "rus       189\n",
              "tur       175\n",
              "vie       146\n",
              "rum       143\n",
              "scr       137\n",
              "hun       129\n",
              "swe       107\n",
              "bul       107\n",
              "tha        96\n",
              "dan        94\n",
              "cat        91\n",
              "per        82\n",
              "isl        82\n",
              "est        80\n",
              "pt-BR      71\n",
              "srp        71\n",
              "en-CA      64\n",
              "aze        59\n",
              "lav        52\n",
              "lit        36\n",
              "jpn        29\n",
              "heb        26\n",
              "ben        10\n",
              "slv         9\n",
              "nob         7\n",
              "msa         7\n",
              "kat         6\n",
              "mul         5\n",
              "mon         3\n",
              "zho         3\n",
              "ukr         2\n",
              "afr         2\n",
              "nor         2\n",
              "mya         1\n",
              "urd         1\n",
              "tam         1\n",
              "mal         1\n",
              "wel         1\n",
              "en          1\n",
              "Name: language_code, dtype: int64"
            ]
          },
          "metadata": {},
          "execution_count": 11
        }
      ]
    },
    {
      "cell_type": "code",
      "source": [
        "df_books1['language_code'].value_counts()"
      ],
      "metadata": {
        "colab": {
          "base_uri": "https://localhost:8080/"
        },
        "id": "m5sTsoVXAPcE",
        "outputId": "6ffa9c64-5ea9-4e05-f9d1-cd85fb0dfc89"
      },
      "execution_count": null,
      "outputs": [
        {
          "output_type": "execute_result",
          "data": {
            "text/plain": [
              "eng      5211066\n",
              "spa      1014395\n",
              "ita       761699\n",
              "en-US     556272\n",
              "por       465950\n",
              "          ...   \n",
              "chv            1\n",
              "chi            1\n",
              "afa            1\n",
              "myv            1\n",
              "lao            1\n",
              "Name: language_code, Length: 226, dtype: int64"
            ]
          },
          "metadata": {},
          "execution_count": 12
        }
      ]
    },
    {
      "cell_type": "code",
      "source": [
        "df_books1['language_code'].unique()"
      ],
      "metadata": {
        "colab": {
          "base_uri": "https://localhost:8080/"
        },
        "id": "p3vfRd3xBAz7",
        "outputId": "6183cb40-9fd4-490d-fdfc-6712f800e3d1"
      },
      "execution_count": null,
      "outputs": [
        {
          "output_type": "execute_result",
          "data": {
            "text/plain": [
              "array([nan, 'eng', 'ger', 'spa', 'en-US', 'ita', 'per', 'en-GB', 'tur',\n",
              "       'ind', 'mon', 'fre', 'por', 'ara', 'en-CA', 'tha', 'lav', 'jpn',\n",
              "       'pol', 'swe', 'kor', 'fin', 'msa', 'bul', 'nl', 'gre', 'slo',\n",
              "       'nor', 'heb', 'hun', 'ben', 'scr', 'zho', 'fil', 'rus', 'lit',\n",
              "       'rum', 'cze', 'dan', 'slv', 'nno', 'pes', 'hye', 'nob', 'cat',\n",
              "       'en', 'vie', 'nep', 'mar', 'srp', 'urd', 'guj', 'est', 'sqi',\n",
              "       'ukr', 'afr', 'mul', 'grc', 'kat', 'mkd', 'hin', 'tam', 'mus',\n",
              "       '--', 'bos', 'enm', 'gla', 'isl', 'glg', 'mal', 'kur', 'wel',\n",
              "       'pt-BR', 'crh', 'tel', 'es-MX', 'kan', 'mya', 'fao', 'aze', 'ota',\n",
              "       'arw', 'pra', 'tgl', 'lat', 'dum', 'eus', 'sin', 'mlt', 'ada',\n",
              "       'apa', 'udm', 'peo', 'bel', 'iro', 'nld', 'ori', 'smn', 'amh',\n",
              "       'tut', 'frs', 'arg', 'ang', 'abk', 'epo', 'snd', 'pan', 'egy',\n",
              "       'dut', 'vls', 'jav', 'tlh', 'din', 'gle', 'alg', 'gsw', 'nah',\n",
              "       'her', 'aus', 'aka', 'chm', 'ace', 'oci', 'ast', 'kok', 'tib',\n",
              "       'frm', 'ira', 'arp', 'grn', 'nds', 'elx', 'swa', 'dyu', 'san',\n",
              "       'sco', 'che', 'ach', 'raj', 'nqo', 'dak', 'sun', 'cor', 'fiu',\n",
              "       'inh', 'run', 'asm', 'bug', 'gem', 'vai', 'und', 'gmh', 'qaa',\n",
              "       'uig', 'non', 'dua', 'krl', 'sla', 'ava', 'rom', 'phi', 'btk',\n",
              "       'ltz', 'mri', 'hat', 'awa', 'scn', 'lim', 'div', 'chb', 'bas',\n",
              "       'iba', 'en-IN', 'uzb', 'tup', 'anp', 'wak', 'roh', 'jrb', 'kaz',\n",
              "       'vec', 'fan', 'yid', 'sga', 'haw', 'chv', 'chi', 'afa', 'myv',\n",
              "       'nav', 'ine', 'roa', 'bam', 'kir', 'kam', 'nso', 'ilo',\n",
              "       'Select...', 'gez', 'ale', 'kau', 'myn', 'bik', 'jbo', 'hmn',\n",
              "       'fro', 'dgr', 'bat', 'mwl', 'sux', 'ave', 'iku', 'ton', 'chp',\n",
              "       'kal', 'sot', 'khm', 'ina', 'tgk', 'nub', 'chn', 'ady', 'cop',\n",
              "       'aar', 'zap', 'rup', 'lao'], dtype=object)"
            ]
          },
          "metadata": {},
          "execution_count": 13
        }
      ]
    },
    {
      "cell_type": "markdown",
      "source": [
        "To reduce complexity, we will rule out non-English books and their reviews. Also, we will consider the books regardless the editions. We will use work_id over book_id."
      ],
      "metadata": {
        "id": "i3c2TsVC_mty"
      }
    },
    {
      "cell_type": "code",
      "source": [
        "language = ['eng', 'en-US', 'en-GB', 'en-CA', 'en']\n",
        "df_books1 = df_books1[(df_books1['language_code'].isin(language))|(df_books1['language_code'].isnull())]"
      ],
      "metadata": {
        "id": "U481v8fLCPbn"
      },
      "execution_count": null,
      "outputs": []
    },
    {
      "cell_type": "code",
      "source": [
        "df_reviews1 = df_reviews1.merge(df_books1[['language_code','book_id']], how = 'left', on = 'book_id')\n",
        "df_reviews1 = df_reviews1[(df_reviews1['language_code'].isin(language))|(df_reviews1['language_code'].isnull())]"
      ],
      "metadata": {
        "id": "IEJgXbQXQPwn"
      },
      "execution_count": null,
      "outputs": []
    },
    {
      "cell_type": "code",
      "source": [
        "df_books1 = df_books1.sort_values('language_code').drop_duplicates(subset='work_id').reset_index().drop('index',axis=1)"
      ],
      "metadata": {
        "id": "8eum7BlyFPB_"
      },
      "execution_count": null,
      "outputs": []
    },
    {
      "cell_type": "code",
      "source": [
        "df_books1[['genres_new','description','title']].isna().sum()"
      ],
      "metadata": {
        "colab": {
          "base_uri": "https://localhost:8080/"
        },
        "id": "ocYjwJxfLzR9",
        "outputId": "529115b0-aa6b-47b5-9fa4-8167c2e3ecba"
      },
      "execution_count": null,
      "outputs": [
        {
          "output_type": "execute_result",
          "data": {
            "text/plain": [
              "genres_new     1268665\n",
              "description     299963\n",
              "title                9\n",
              "dtype: int64"
            ]
          },
          "metadata": {},
          "execution_count": 17
        }
      ]
    },
    {
      "cell_type": "code",
      "source": [
        "df_books1 = df_books1.dropna(axis = 0, subset=['title','work_id'])\n",
        "df_books1['genres_new'] = df_books1['genres_new'].fillna('')\n",
        "df_books1['description'] = df_books1['description'].fillna('')\n",
        "df_books1['work_id'] = df_books1['work_id'].astype(int)"
      ],
      "metadata": {
        "id": "22jhXNPvPatc"
      },
      "execution_count": null,
      "outputs": []
    },
    {
      "cell_type": "code",
      "source": [
        "import pickle \n",
        "pickle.dump(df_books1,open('/content/drive/MyDrive/Capstone Project (Books Reviews)/df_books.pickle','wb'))\n",
        "pickle.dump(df_reviews1,open('/content/drive/MyDrive/Capstone Project (Books Reviews)/df_reviews.pickle','wb'))"
      ],
      "metadata": {
        "id": "FP62r6IPLhY3"
      },
      "execution_count": null,
      "outputs": []
    }
  ]
}