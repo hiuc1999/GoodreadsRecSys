{
  "nbformat": 4,
  "nbformat_minor": 0,
  "metadata": {
    "colab": {
      "name": "RecSys Model.ipynb",
      "provenance": [],
      "collapsed_sections": [],
      "machine_shape": "hm"
    },
    "kernelspec": {
      "name": "python3",
      "display_name": "Python 3"
    },
    "language_info": {
      "name": "python"
    },
    "gpuClass": "standard"
  },
  "cells": [
    {
      "cell_type": "code",
      "execution_count": null,
      "metadata": {
        "id": "ip1BUzqjeF9R"
      },
      "outputs": [],
      "source": [
        "import pandas as pd\n",
        "import numpy as np\n",
        "import pickle\n",
        "import matplotlib.pyplot as plt\n",
        "%matplotlib inline\n",
        "from sklearn.metrics.pairwise import cosine_similarity"
      ]
    },
    {
      "cell_type": "code",
      "source": [
        "df_books = pickle.load(open('df_books.pickle','rb'))"
      ],
      "metadata": {
        "id": "gro4Uys1ec63"
      },
      "execution_count": null,
      "outputs": []
    },
    {
      "cell_type": "code",
      "source": [
        "df_authors = pickle.load(open('df_authors.pickle','rb'))"
      ],
      "metadata": {
        "id": "7WOLGTCXiF3O"
      },
      "execution_count": null,
      "outputs": []
    },
    {
      "cell_type": "code",
      "source": [
        "df_books.drop(['language_code','book_id','publication_year','series','genres_new'], axis=1, inplace=True)"
      ],
      "metadata": {
        "id": "b_l5hdfyHPjD"
      },
      "execution_count": null,
      "outputs": []
    },
    {
      "cell_type": "code",
      "source": [
        "books_latent = pickle.load(open('latent_matrix_books.pickle','rb'))\n",
        "rating_latent = pickle.load(open('latent_matrix_rating.pickle','rb'))"
      ],
      "metadata": {
        "id": "WS9YYDZHY4UC"
      },
      "execution_count": null,
      "outputs": []
    },
    {
      "cell_type": "markdown",
      "source": [
        "## Book-to-book"
      ],
      "metadata": {
        "id": "3UWzpaPzDyc5"
      }
    },
    {
      "cell_type": "code",
      "source": [
        "def book_to_books(seedbookID, latentmatrix, rec_mode):\n",
        "  if rec_mode == 'collaborative':\n",
        "    seed_book = np.array(latentmatrix.loc[seedbookID]).reshape(1,-1)\n",
        "  if rec_mode == 'content':\n",
        "    seed_book = latentmatrix[df_books.index[df_books['work_id'] == seedbookID]]\n",
        "\n",
        "  similarities = cosine_similarity(latentmatrix, seed_book, dense_output=True)\n",
        "\n",
        "  if rec_mode == 'collaborative':\n",
        "    index = latentmatrix.index.tolist()\n",
        "  if rec_mode == 'content':\n",
        "    index = df_books['work_id'].tolist()\n",
        "\n",
        "  similarities = pd.DataFrame(similarities, index = index)\n",
        "  similarities.columns = ['similarity_score']\n",
        "  similarities.sort_values('similarity_score', ascending=False, inplace=True)\n",
        "  similarities = similarities.iloc[1:]\n",
        "  similarities = similarities[similarities['similarity_score'] > 0]\n",
        "\n",
        "  return similarities"
      ],
      "metadata": {
        "id": "1R3R9lRu_XZJ"
      },
      "execution_count": null,
      "outputs": []
    },
    {
      "cell_type": "code",
      "source": [
        "def similarity_scores(collaborative_score, content_score):\n",
        "  #average both similarity scores\n",
        "  df_sim = pd.merge(collaborative_score, pd.DataFrame(content_score['similarity_score']), left_index=True, right_index=True)\n",
        "  df_sim['similarity_score'] = (df_sim['similarity_score_x'] + (df_sim['similarity_score_y'])*0.5)/2\n",
        "  df_sim.drop(\"similarity_score_x\", axis=1, inplace=True)\n",
        "  df_sim.drop(\"similarity_score_y\", axis=1, inplace=True)\n",
        "\n",
        "  #sort by average similarity score\n",
        "  df_sim.sort_values('similarity_score', ascending=False, inplace=True)\n",
        "\n",
        "  #round similarity score\n",
        "  df_sim['similarity_score'] = df_sim['similarity_score'].round(4)\n",
        "\n",
        "  return  df_sim.head(20)"
      ],
      "metadata": {
        "id": "oJUt-hIj-uKJ"
      },
      "execution_count": null,
      "outputs": []
    },
    {
      "cell_type": "code",
      "source": [
        "def get_recommendation(seed_book):\n",
        "  collaborative = book_to_books(seed_book, rating_latent, 'collaborative')\n",
        "  content = book_to_books(seed_book, books_latent, 'content')\n",
        "  rec = similarity_scores(collaborative, content)\n",
        "  rec = pd.merge(df_books, rec, how='right', left_on='work_id', right_index=True).reset_index().drop(['index','similarity_score'], axis=1)\n",
        "  rec = rec[['title','authors','work_id','isbn','description','average_rating','image_url']]\n",
        "  rec['authors'] = rec['authors'].apply(lambda a: [df_authors.loc[i]['name'] for i in a])\n",
        "  return rec"
      ],
      "metadata": {
        "id": "NCA1UIK-U_Wu"
      },
      "execution_count": null,
      "outputs": []
    },
    {
      "cell_type": "markdown",
      "source": [
        "## User to book"
      ],
      "metadata": {
        "id": "mlFutwSjNuyG"
      }
    },
    {
      "cell_type": "code",
      "source": [
        "def user_to_user(seeduserID):\n",
        "  seed_user = np.array(latent_rating_u2u.loc[seeduserID]).reshape(1,-1)\n",
        "  similarities = cosine_similarity(latent_rating_u2u, seed_user, dense_output=True)\n",
        "  index = latent_rating_u2u.index.tolist()\n",
        "  similarities = pd.DataFrame(similarities, index = index)\n",
        "  similarities.columns = ['similarity_score']\n",
        "  similarities.sort_values('similarity_score', ascending=False, inplace=True)\n",
        "  similarities = similarities.iloc[1:]\n",
        "  similarities = similarities[similarities['similarity_score'] > 0]\n",
        "\n",
        "  return similarities[:min(len(similarities),30)]\n",
        "\n",
        "\n",
        "def user_to_book(userID):\n",
        "  latent_rating_u2u = rating_latent.transpose()\n",
        "\n",
        "  sim_user = user_to_user(userID)\n",
        "\n",
        "  book_read = latent_rating_u2u.loc[userID]\n",
        "  book_read = book_read.loc[(book_read > 0)]\n",
        "  book_read = book_read.sort_values(ascending=False)[:min(30,len(book_read))]\n",
        "\n",
        "  sim = latent_rating_u2u[latent_rating_u2u.index.isin(sim_user.index)]\n",
        "  sim = sim.loc[:, (sim > 0).any(axis=0)].loc[~sim.index.isin(book_read.index)]\n",
        "  avgrating = sim.replace(0,np.nan).apply(np.nanmean).dropna()\n",
        "  avgrating = avgrating.sort_values(ascending=False).index[:min(50,len(avgrating))]\n",
        "\n",
        "  similarities = cosine_similarity(book_latent[df_books.index[df_books['work_id'].isin(list(avgrating))]],book_latent[df_books.index[df_books['work_id'].isin(list(book_read.index))]])\n",
        "  cos = pd.DataFrame(similarities, index = list(avgrating), columns = list(book_read.index))\n",
        "  rec = df_books[df_books['work_id'].isin(cos.index[[a for (a,b) in [divmod(i, 30) for i in np.argsort(similarities, axis=None)[-10:]]]][::-1])][['title','authors','work_id','isbn','description','average_rating']]\n",
        "  rec['authors'] = rec['authors'].apply(lambda a: [df_authors.loc[i]['name'] for i in a])\n",
        "\n",
        "  return rec"
      ],
      "metadata": {
        "id": "D-VbmgeIm0vH"
      },
      "execution_count": null,
      "outputs": []
    }
  ]
}
