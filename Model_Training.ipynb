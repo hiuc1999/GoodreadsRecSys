{
 "cells": [
  {
   "cell_type": "code",
   "execution_count": 1,
   "metadata": {
    "id": "ip1BUzqjeF9R"
   },
   "outputs": [],
   "source": [
    "import pandas as pd\n",
    "import numpy as np\n",
    "import pickle\n",
    "import matplotlib.pyplot as plt\n",
    "%matplotlib inline\n",
    "from sklearn.metrics.pairwise import cosine_similarity"
   ]
  },
  {
   "cell_type": "code",
   "execution_count": 2,
   "metadata": {
    "id": "gro4Uys1ec63"
   },
   "outputs": [],
   "source": [
    "df_books = pickle.load(open('df_books.pickle','rb'))\n",
    "df_books.dropna(subset=['isbn'], axis=0, inplace=True)"
   ]
  },
  {
   "cell_type": "markdown",
   "metadata": {
    "id": "vWxMLH-0Q5of"
   },
   "source": [
    "## Content Based"
   ]
  },
  {
   "cell_type": "code",
   "execution_count": 3,
   "metadata": {
    "id": "yvyp42URfR2B"
   },
   "outputs": [],
   "source": [
    "from sklearn.preprocessing import MultiLabelBinarizer\n",
    "mlb = MultiLabelBinarizer(sparse_output=True)\n",
    "series_M = mlb.fit_transform(df_books['series'])\n",
    "\n",
    "mlb1 = MultiLabelBinarizer(sparse_output=True)\n",
    "authors_M = mlb1.fit_transform(df_books['authors'])"
   ]
  },
  {
   "cell_type": "code",
   "execution_count": 4,
   "metadata": {
    "colab": {
     "base_uri": "https://localhost:8080/"
    },
    "id": "_22heaqqnHCC",
    "outputId": "2c827df9-ed01-42ee-91c1-e0c3e62fff59"
   },
   "outputs": [
    {
     "data": {
      "text/plain": [
       "((789289, 184082), (789289, 461848))"
      ]
     },
     "execution_count": 4,
     "metadata": {},
     "output_type": "execute_result"
    }
   ],
   "source": [
    "series_M.shape, authors_M.shape"
   ]
  },
  {
   "cell_type": "code",
   "execution_count": 5,
   "metadata": {
    "colab": {
     "base_uri": "https://localhost:8080/"
    },
    "id": "mmgZSzPEpLRf",
    "outputId": "5580cc52-faaf-4697-8fca-b80acd447d5a"
   },
   "outputs": [
    {
     "data": {
      "text/plain": [
       "789289"
      ]
     },
     "execution_count": 5,
     "metadata": {},
     "output_type": "execute_result"
    }
   ],
   "source": [
    "text = df_books['title'] + df_books['genres_new'] + df_books['description'] \n",
    "len(text)"
   ]
  },
  {
   "cell_type": "markdown",
   "metadata": {
    "id": "DDtnyRqB_umr"
   },
   "source": [
    "### Text Cleaning"
   ]
  },
  {
   "cell_type": "code",
   "execution_count": 6,
   "metadata": {
    "colab": {
     "base_uri": "https://localhost:8080/"
    },
    "id": "OoEXYMiBupK1",
    "outputId": "387fd734-65b0-489e-bffd-c0bd0be4be62"
   },
   "outputs": [
    {
     "name": "stderr",
     "output_type": "stream",
     "text": [
      "[nltk_data] Downloading package punkt to /root/nltk_data...\n",
      "[nltk_data]   Unzipping tokenizers/punkt.zip.\n"
     ]
    }
   ],
   "source": [
    "# Text Cleaning\n",
    "from nltk.stem.snowball import SnowballStemmer\n",
    "from nltk.tokenize import word_tokenize\n",
    "import re\n",
    "import nltk\n",
    "nltk.download('punkt')\n",
    "\n",
    "snow = SnowballStemmer('english')\n",
    "\n",
    "def clean(text):\n",
    "    text = re.sub(r\"n\\'t\", \" not\", text)\n",
    "    text = re.sub(r\"\\'re\", \" are\", text)\n",
    "    text = re.sub(r\"\\'s\", \" is\", text)\n",
    "    text = re.sub(r\"\\'d\", \" would\", text)\n",
    "    text = re.sub(r\"\\'ll\", \" will\", text)\n",
    "    text = re.sub(r\"\\'t\", \" not\", text)\n",
    "    text = re.sub(r\"\\'ve\", \" have\", text)\n",
    "    text = re.sub(r\"\\'m\", \" am\", text)\n",
    "    return text\n",
    "    \n",
    "def preprocessing(string):\n",
    "    word_sent = re.sub(r\"http\\S+\", \"\", string)\n",
    "    word_sent = clean(word_sent)\n",
    "    word_sent = re.sub('[^A-Za-z]+', ' ', word_sent)   # removing non-word characters\n",
    "    word_sent = word_tokenize(word_sent.lower())\n",
    "    word_sent= ' '.join([snow.stem(word) for word in word_sent])\n",
    "    word_sent = ' '.join([w for w in word_sent.split() if len(w)>1])\n",
    "    return word_sent"
   ]
  },
  {
   "cell_type": "code",
   "execution_count": 7,
   "metadata": {
    "id": "-nZLTMDvvHEj"
   },
   "outputs": [],
   "source": [
    "text = text.apply(preprocessing)"
   ]
  },
  {
   "cell_type": "markdown",
   "metadata": {
    "id": "RkeNhJ8h__U0"
   },
   "source": [
    "### TDIDF & SVD"
   ]
  },
  {
   "cell_type": "code",
   "execution_count": 8,
   "metadata": {
    "id": "d_eb4mpFrEcA"
   },
   "outputs": [],
   "source": [
    "from sklearn.feature_extraction.text import TfidfVectorizer\n",
    "tfidf_vect = TfidfVectorizer(min_df=0.0005,max_df=0.7, stop_words='english', dtype= np.float32)\n",
    "text_M = tfidf_vect.fit_transform(text)"
   ]
  },
  {
   "cell_type": "code",
   "execution_count": 9,
   "metadata": {
    "id": "PVIg28kkDQZ_"
   },
   "outputs": [],
   "source": [
    "del text"
   ]
  },
  {
   "cell_type": "code",
   "execution_count": 10,
   "metadata": {
    "colab": {
     "base_uri": "https://localhost:8080/"
    },
    "id": "TWjdhcRltIVv",
    "outputId": "3ec974a9-6b4e-49d6-8f87-c4b2c4763791"
   },
   "outputs": [
    {
     "data": {
      "text/plain": [
       "['alway',\n",
       " 'thought',\n",
       " 'normal',\n",
       " 'teenag',\n",
       " 'work',\n",
       " 'intern',\n",
       " 'paranorm',\n",
       " 'contain',\n",
       " 'agenc',\n",
       " 'fall',\n",
       " 'shape',\n",
       " 'shifter',\n",
       " 'onli',\n",
       " 'glamour',\n",
       " 'dream',\n",
       " 'haunt',\n",
       " 'voic',\n",
       " 'cryptic',\n",
       " 'messag',\n",
       " 'realiz',\n",
       " 'center',\n",
       " 'dark',\n",
       " 'faeri',\n",
       " 'propheci',\n",
       " 'promis',\n",
       " 'destruct',\n",
       " 'creatur',\n",
       " 'storm',\n",
       " 'return',\n",
       " 'thrill',\n",
       " 'new',\n",
       " 'novel',\n",
       " 'grand',\n",
       " 'master',\n",
       " 'adventur',\n",
       " 'york',\n",
       " 'time',\n",
       " 'bestsel',\n",
       " 'author',\n",
       " 'investig',\n",
       " 'toxic',\n",
       " 'outbreak',\n",
       " 'caribbean',\n",
       " 'sea',\n",
       " 'ultim',\n",
       " 'threaten',\n",
       " 'unit',\n",
       " 'state',\n",
       " 'unwit',\n",
       " 'becom']"
      ]
     },
     "execution_count": 10,
     "metadata": {},
     "output_type": "execute_result"
    }
   ],
   "source": [
    "list(tfidf_vect.vocabulary_.keys())[:50]"
   ]
  },
  {
   "cell_type": "code",
   "execution_count": 11,
   "metadata": {
    "id": "3W4Se_XdpJGv"
   },
   "outputs": [],
   "source": [
    "from scipy.sparse import hstack\n",
    "full_M = hstack([series_M, authors_M, text_M])"
   ]
  },
  {
   "cell_type": "code",
   "execution_count": 12,
   "metadata": {
    "colab": {
     "base_uri": "https://localhost:8080/"
    },
    "id": "y3mydNjzsbwQ",
    "outputId": "504f8f94-db62-4922-bf5d-66b994492a8b"
   },
   "outputs": [
    {
     "data": {
      "text/plain": [
       "TruncatedSVD(n_components=300)"
      ]
     },
     "execution_count": 12,
     "metadata": {},
     "output_type": "execute_result"
    }
   ],
   "source": [
    "# Reduce dimension and compress the matrix by SVD\n",
    "from sklearn.decomposition import TruncatedSVD\n",
    "svd = TruncatedSVD(n_components=300)\n",
    "svd.fit(full_M)\n",
    "#print(latent_matrix.shape)"
   ]
  },
  {
   "cell_type": "code",
   "execution_count": 13,
   "metadata": {
    "id": "qoplvnZMF7JZ"
   },
   "outputs": [],
   "source": [
    "del full_M"
   ]
  },
  {
   "cell_type": "code",
   "execution_count": 14,
   "metadata": {
    "colab": {
     "base_uri": "https://localhost:8080/",
     "height": 545
    },
    "id": "n5xZ0poE6_bG",
    "outputId": "72867a29-c758-4e77-d5f0-bb7624172471"
   },
   "outputs": [
    {
     "data": {
      "image/png": "[encoded data removed]",
      "text/plain": [
       "<Figure size 432x288 with 1 Axes>"
      ]
     },
     "metadata": {
      "needs_background": "light"
     },
     "output_type": "display_data"
    },
    {
     "data": {
      "image/png": "[encoded data removed]",
      "text/plain": [
       "<Figure size 432x288 with 1 Axes>"
      ]
     },
     "metadata": {
      "needs_background": "light"
     },
     "output_type": "display_data"
    }
   ],
   "source": [
    "expl = svd.explained_variance_ratio_\n",
    "plt.plot(expl, '.-', ms=15)\n",
    "plt.title('Variance Explained by each PC');\n",
    "plt.show()\n",
    "\n",
    "plt.plot(np.cumsum(expl), '.-', ms=15, color='red')\n",
    "plt.title('Cumulative Variance Explained by each PC');\n",
    "plt.show()"
   ]
  },
  {
   "cell_type": "code",
   "execution_count": 15,
   "metadata": {
    "colab": {
     "base_uri": "https://localhost:8080/"
    },
    "id": "pvh3O_3sK6Iv",
    "outputId": "ddea1a53-158c-4e0f-ddc6-29ec191bf0c3"
   },
   "outputs": [
    {
     "data": {
      "text/plain": [
       "TruncatedSVD(n_components=300)"
      ]
     },
     "execution_count": 15,
     "metadata": {},
     "output_type": "execute_result"
    }
   ],
   "source": [
    "# Use the text features only\n",
    "from sklearn.decomposition import TruncatedSVD\n",
    "svd_text = TruncatedSVD(n_components=300)\n",
    "svd_text.fit(text_M)"
   ]
  },
  {
   "cell_type": "code",
   "execution_count": 16,
   "metadata": {
    "colab": {
     "base_uri": "https://localhost:8080/",
     "height": 545
    },
    "id": "yk6cUzBzK6JR",
    "outputId": "a3056fae-90a2-4e90-b1d5-345882be8ae5"
   },
   "outputs": [
    {
     "data": {
      "image/png": "[encoded data removed]",
      "text/plain": [
       "<Figure size 432x288 with 1 Axes>"
      ]
     },
     "metadata": {
      "needs_background": "light"
     },
     "output_type": "display_data"
    },
    {
     "data": {
      "image/png": "[encoded data removed]",
      "text/plain": [
       "<Figure size 432x288 with 1 Axes>"
      ]
     },
     "metadata": {
      "needs_background": "light"
     },
     "output_type": "display_data"
    }
   ],
   "source": [
    "expl = svd_text.explained_variance_ratio_\n",
    "plt.plot(expl, '.-', ms=15)\n",
    "plt.title('Variance Explained by each PC');\n",
    "plt.show()\n",
    "\n",
    "plt.plot(np.cumsum(expl), '.-', ms=15, color='red')\n",
    "plt.title('Cumulative Variance Explained by each PC');\n",
    "plt.show()"
   ]
  },
  {
   "cell_type": "markdown",
   "metadata": {
    "id": "kdylK6BrMtLQ"
   },
   "source": [
    "It performs better when only text features are considered. and n_components is 300 due to computational power restriction and elbow theorem."
   ]
  },
  {
   "cell_type": "code",
   "execution_count": 17,
   "metadata": {
    "id": "gqr07skMU4C2"
   },
   "outputs": [],
   "source": [
    "from scipy import sparse\n",
    "books_latent = sparse.csr_matrix(svd_text.transform(text_M))"
   ]
  },
  {
   "cell_type": "code",
   "execution_count": 24,
   "metadata": {
    "id": "dOsBa3HCqz_0"
   },
   "outputs": [],
   "source": [
    "pickle.dump(books_latent,open('latent_matrix_books.pickle','wb'))"
   ]
  },
  {
   "cell_type": "markdown",
   "metadata": {
    "id": "C0d4TwAIQ9rM"
   },
   "source": [
    "## Collaborative Filtering"
   ]
  },
  {
   "cell_type": "code",
   "execution_count": 18,
   "metadata": {
    "id": "Nhn7y9j4X6JW"
   },
   "outputs": [],
   "source": [
    "df_reviews = pickle.load(open('/content/drive/MyDrive/Capstone Project (Books Reviews)/df_reviews.pickle','rb'))\n",
    "df_reviews = df_reviews[df_reviews['work_id'].isin(df_books['work_id'])]"
   ]
  },
  {
   "cell_type": "code",
   "execution_count": 19,
   "metadata": {
    "colab": {
     "base_uri": "https://localhost:8080/",
     "height": 206
    },
    "id": "wobRuVXOYHx-",
    "outputId": "f3431b6b-f572-44d8-855c-4dc8ebe2701c"
   },
   "outputs": [
    {
     "data": {
      "text/html": [
       "\n",
       "  <div id=\"df-aca36928-bbb7-41ae-8c8f-f297b76c814a\">\n",
       "    <div class=\"colab-df-container\">\n",
       "      <div>\n",
       "<style scoped>\n",
       "    .dataframe tbody tr th:only-of-type {\n",
       "        vertical-align: middle;\n",
       "    }\n",
       "\n",
       "    .dataframe tbody tr th {\n",
       "        vertical-align: top;\n",
       "    }\n",
       "\n",
       "    .dataframe thead th {\n",
       "        text-align: right;\n",
       "    }\n",
       "</style>\n",
       "<table border=\"1\" class=\"dataframe\">\n",
       "  <thead>\n",
       "    <tr style=\"text-align: right;\">\n",
       "      <th></th>\n",
       "      <th>user_id</th>\n",
       "      <th>book_id</th>\n",
       "      <th>rating</th>\n",
       "      <th>has_spoiler</th>\n",
       "      <th>review_sentences</th>\n",
       "      <th>work_id</th>\n",
       "      <th>title</th>\n",
       "      <th>language_code</th>\n",
       "    </tr>\n",
       "  </thead>\n",
       "  <tbody>\n",
       "    <tr>\n",
       "      <th>0</th>\n",
       "      <td>0</td>\n",
       "      <td>18245960</td>\n",
       "      <td>5</td>\n",
       "      <td>1</td>\n",
       "      <td>[[0, 'This is a special book.'], [0, 'It start...</td>\n",
       "      <td>25696480</td>\n",
       "      <td>The Three-Body Problem (Remembrance of Earth’s...</td>\n",
       "      <td>NaN</td>\n",
       "    </tr>\n",
       "    <tr>\n",
       "      <th>1</th>\n",
       "      <td>0</td>\n",
       "      <td>16981</td>\n",
       "      <td>3</td>\n",
       "      <td>0</td>\n",
       "      <td>[[0, 'Recommended by Don Katz.'], [0, 'Avail f...</td>\n",
       "      <td>170957</td>\n",
       "      <td>Invisible Man</td>\n",
       "      <td>NaN</td>\n",
       "    </tr>\n",
       "    <tr>\n",
       "      <th>2</th>\n",
       "      <td>0</td>\n",
       "      <td>28684704</td>\n",
       "      <td>3</td>\n",
       "      <td>1</td>\n",
       "      <td>[[0, 'A fun, fast paced science fiction thrill...</td>\n",
       "      <td>43161998</td>\n",
       "      <td>Dark Matter</td>\n",
       "      <td>NaN</td>\n",
       "    </tr>\n",
       "    <tr>\n",
       "      <th>3</th>\n",
       "      <td>0</td>\n",
       "      <td>27161156</td>\n",
       "      <td>0</td>\n",
       "      <td>0</td>\n",
       "      <td>[[0, 'Recommended reading to understand what i...</td>\n",
       "      <td>47200486</td>\n",
       "      <td>Hillbilly Elegy: A Memoir of a Family and Cult...</td>\n",
       "      <td>NaN</td>\n",
       "    </tr>\n",
       "    <tr>\n",
       "      <th>4</th>\n",
       "      <td>0</td>\n",
       "      <td>25884323</td>\n",
       "      <td>4</td>\n",
       "      <td>1</td>\n",
       "      <td>[[0, 'I really enjoyed this book, and there is...</td>\n",
       "      <td>42742263</td>\n",
       "      <td>Aurora</td>\n",
       "      <td>NaN</td>\n",
       "    </tr>\n",
       "  </tbody>\n",
       "</table>\n",
       "</div>\n",
       "      <button class=\"colab-df-convert\" onclick=\"convertToInteractive('df-aca36928-bbb7-41ae-8c8f-f297b76c814a')\"\n",
       "              title=\"Convert this dataframe to an interactive table.\"\n",
       "              style=\"display:none;\">\n",
       "        \n",
       "  <svg xmlns=\"http://www.w3.org/2000/svg\" height=\"24px\"viewBox=\"0 0 24 24\"\n",
       "       width=\"24px\">\n",
       "    <path d=\"M0 0h24v24H0V0z\" fill=\"none\"/>\n",
       "    <path d=\"M18.56 5.44l.94 2.06.94-2.06 2.06-.94-2.06-.94-.94-2.06-.94 2.06-2.06.94zm-11 1L8.5 8.5l.94-2.06 2.06-.94-2.06-.94L8.5 2.5l-.94 2.06-2.06.94zm10 10l.94 2.06.94-2.06 2.06-.94-2.06-.94-.94-2.06-.94 2.06-2.06.94z\"/><path d=\"M17.41 7.96l-1.37-1.37c-.4-.4-.92-.59-1.43-.59-.52 0-1.04.2-1.43.59L10.3 9.45l-7.72 7.72c-.78.78-.78 2.05 0 2.83L4 21.41c.39.39.9.59 1.41.59.51 0 1.02-.2 1.41-.59l7.78-7.78 2.81-2.81c.8-.78.8-2.07 0-2.86zM5.41 20L4 18.59l7.72-7.72 1.47 1.35L5.41 20z\"/>\n",
       "  </svg>\n",
       "      </button>\n",
       "      \n",
       "  <style>\n",
       "    .colab-df-container {\n",
       "      display:flex;\n",
       "      flex-wrap:wrap;\n",
       "      gap: 12px;\n",
       "    }\n",
       "\n",
       "    .colab-df-convert {\n",
       "      background-color: #E8F0FE;\n",
       "      border: none;\n",
       "      border-radius: 50%;\n",
       "      cursor: pointer;\n",
       "      display: none;\n",
       "      fill: #1967D2;\n",
       "      height: 32px;\n",
       "      padding: 0 0 0 0;\n",
       "      width: 32px;\n",
       "    }\n",
       "\n",
       "    .colab-df-convert:hover {\n",
       "      background-color: #E2EBFA;\n",
       "      box-shadow: 0px 1px 2px rgba(60, 64, 67, 0.3), 0px 1px 3px 1px rgba(60, 64, 67, 0.15);\n",
       "      fill: #174EA6;\n",
       "    }\n",
       "\n",
       "    [theme=dark] .colab-df-convert {\n",
       "      background-color: #3B4455;\n",
       "      fill: #D2E3FC;\n",
       "    }\n",
       "\n",
       "    [theme=dark] .colab-df-convert:hover {\n",
       "      background-color: #434B5C;\n",
       "      box-shadow: 0px 1px 3px 1px rgba(0, 0, 0, 0.15);\n",
       "      filter: drop-shadow(0px 1px 2px rgba(0, 0, 0, 0.3));\n",
       "      fill: #FFFFFF;\n",
       "    }\n",
       "  </style>\n",
       "\n",
       "      <script>\n",
       "        const buttonEl =\n",
       "          document.querySelector('#df-aca36928-bbb7-41ae-8c8f-f297b76c814a button.colab-df-convert');\n",
       "        buttonEl.style.display =\n",
       "          google.colab.kernel.accessAllowed ? 'block' : 'none';\n",
       "\n",
       "        async function convertToInteractive(key) {\n",
       "          const element = document.querySelector('#df-aca36928-bbb7-41ae-8c8f-f297b76c814a');\n",
       "          const dataTable =\n",
       "            await google.colab.kernel.invokeFunction('convertToInteractive',\n",
       "                                                     [key], {});\n",
       "          if (!dataTable) return;\n",
       "\n",
       "          const docLinkHtml = 'Like what you see? Visit the ' +\n",
       "            '<a target=\"_blank\" href=https://colab.research.google.com/notebooks/data_table.ipynb>data table notebook</a>'\n",
       "            + ' to learn more about interactive tables.';\n",
       "          element.innerHTML = '';\n",
       "          dataTable['output_type'] = 'display_data';\n",
       "          await google.colab.output.renderOutput(dataTable, element);\n",
       "          const docLink = document.createElement('div');\n",
       "          docLink.innerHTML = docLinkHtml;\n",
       "          element.appendChild(docLink);\n",
       "        }\n",
       "      </script>\n",
       "    </div>\n",
       "  </div>\n",
       "  "
      ],
      "text/plain": [
       "   user_id   book_id  rating  has_spoiler  \\\n",
       "0        0  18245960       5            1   \n",
       "1        0     16981       3            0   \n",
       "2        0  28684704       3            1   \n",
       "3        0  27161156       0            0   \n",
       "4        0  25884323       4            1   \n",
       "\n",
       "                                    review_sentences   work_id  \\\n",
       "0  [[0, 'This is a special book.'], [0, 'It start...  25696480   \n",
       "1  [[0, 'Recommended by Don Katz.'], [0, 'Avail f...    170957   \n",
       "2  [[0, 'A fun, fast paced science fiction thrill...  43161998   \n",
       "3  [[0, 'Recommended reading to understand what i...  47200486   \n",
       "4  [[0, 'I really enjoyed this book, and there is...  42742263   \n",
       "\n",
       "                                               title language_code  \n",
       "0  The Three-Body Problem (Remembrance of Earth’s...           NaN  \n",
       "1                                      Invisible Man           NaN  \n",
       "2                                        Dark Matter           NaN  \n",
       "3  Hillbilly Elegy: A Memoir of a Family and Cult...           NaN  \n",
       "4                                             Aurora           NaN  "
      ]
     },
     "execution_count": 19,
     "metadata": {},
     "output_type": "execute_result"
    }
   ],
   "source": [
    "df_reviews.head()"
   ]
  },
  {
   "cell_type": "code",
   "execution_count": 20,
   "metadata": {
    "colab": {
     "base_uri": "https://localhost:8080/"
    },
    "id": "A1FehbRGXzkE",
    "outputId": "e83e6f0f-cd24-4413-d50f-6b7a010538a4"
   },
   "outputs": [
    {
     "data": {
      "text/plain": [
       "(10800, 18593)"
      ]
     },
     "execution_count": 20,
     "metadata": {},
     "output_type": "execute_result"
    }
   ],
   "source": [
    "ratingmatrix = pd.pivot_table(df_reviews, values='rating',index=['work_id'], columns=['user_id'])\n",
    "ratingmatrix.fillna(0, inplace=True)\n",
    "ratingmatrix.shape"
   ]
  },
  {
   "cell_type": "code",
   "execution_count": 23,
   "metadata": {
    "id": "tjF4vhltRHKc"
   },
   "outputs": [],
   "source": [
    "pickle.dump(ratingmatrix,open('latent_matrix_rating.pickle','wb'))"
   ]
  },
  {
   "cell_type": "code",
   "execution_count": 22,
   "metadata": {
    "id": "wNBZif2vzscd"
   },
   "outputs": [],
   "source": [
    "pickle.dump(df_books,open('df_books.pickle','wb'))\n",
    "pickle.dump(df_reviews,open('df_reviews.pickle','wb'))"
   ]
  }
 ],
 "metadata": {
  "accelerator": "GPU",
  "colab": {
   "collapsed_sections": [
    "vWxMLH-0Q5of",
    "DDtnyRqB_umr",
    "RkeNhJ8h__U0"
   ],
   "machine_shape": "hm",
   "name": "Model Training.ipynb",
   "provenance": []
  },
  "gpuClass": "standard",
  "kernelspec": {
   "display_name": "Python 3 (ipykernel)",
   "language": "python",
   "name": "python3"
  },
  "language_info": {
   "codemirror_mode": {
    "name": "ipython",
    "version": 3
   },
   "file_extension": ".py",
   "mimetype": "text/x-python",
   "name": "python",
   "nbconvert_exporter": "python",
   "pygments_lexer": "ipython3",
   "version": "3.9.7"
  }
 },
 "nbformat": 4,
 "nbformat_minor": 1
}
